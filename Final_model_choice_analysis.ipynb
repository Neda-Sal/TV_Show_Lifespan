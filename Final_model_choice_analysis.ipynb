{
 "cells": [
  {
   "cell_type": "markdown",
   "metadata": {},
   "source": [
    "## I have chosen a Ridge model, with alpha = 10, on the data that does not include production company."
   ]
  },
  {
   "cell_type": "code",
   "execution_count": 31,
   "metadata": {},
   "outputs": [],
   "source": [
    "import pandas as pd\n",
    "import numpy as np\n",
    "from sklearn.model_selection import train_test_split\n",
    "from sklearn.linear_model import LinearRegression, Lasso, LassoCV, Ridge, RidgeCV\n",
    "from sklearn.metrics import r2_score, mean_absolute_error as mae, mean_squared_error as rmse\n",
    "from sklearn.pipeline import Pipeline\n",
    "from sklearn.preprocessing import StandardScaler\n",
    "\n",
    "import statsmodels.api as sm\n",
    "import statsmodels.formula.api as smf \n",
    "\n",
    "import matplotlib.pyplot as plt\n",
    "import seaborn as sns\n",
    "%matplotlib inline\n",
    "\n",
    "sns.set(context='notebook', style='whitegrid', font_scale=1.2)"
   ]
  },
  {
   "cell_type": "code",
   "execution_count": 2,
   "metadata": {},
   "outputs": [],
   "source": [
    "df = pd.read_pickle('Ordinal_MPAA_merged_with_dummy_genres.pkl')"
   ]
  },
  {
   "cell_type": "markdown",
   "metadata": {},
   "source": [
    "### Check out the relationship between number of seasons and season 1 rating"
   ]
  },
  {
   "cell_type": "code",
   "execution_count": 203,
   "metadata": {},
   "outputs": [
    {
     "data": {
      "image/png": "[encoded data removed]",
      "text/plain": [
       "<Figure size 576x396 with 1 Axes>"
      ]
     },
     "metadata": {},
     "output_type": "display_data"
    }
   ],
   "source": [
    "fig, ax = plt.subplots()\n",
    "ax.scatter(df['Season_1_Rating'], df['Num_of_Seasons'])\n",
    "ax.xaxis.set_tick_params(labelsize=13)\n",
    "ax.yaxis.set_tick_params(labelsize=13)\n",
    "ax.set_xlabel('Season 1 Rating', fontsize = 15)\n",
    "ax.set_ylabel('Number of Seasons', fontsize = 15)\n",
    "ax.set_title('Rating vs. Number of Seasons', fontsize = 15)\n",
    "plt.savefig('season1ratingVSseasons.png');"
   ]
  },
  {
   "cell_type": "code",
   "execution_count": 54,
   "metadata": {},
   "outputs": [
    {
     "data": {
      "text/html": [
       "<div>\n",
       "<style scoped>\n",
       "    .dataframe tbody tr th:only-of-type {\n",
       "        vertical-align: middle;\n",
       "    }\n",
       "\n",
       "    .dataframe tbody tr th {\n",
       "        vertical-align: top;\n",
       "    }\n",
       "\n",
       "    .dataframe thead th {\n",
       "        text-align: right;\n",
       "    }\n",
       "</style>\n",
       "<table border=\"1\" class=\"dataframe\">\n",
       "  <thead>\n",
       "    <tr style=\"text-align: right;\">\n",
       "      <th></th>\n",
       "      <th>Title</th>\n",
       "      <th>Start_Year</th>\n",
       "      <th>End_Year</th>\n",
       "      <th>Genres</th>\n",
       "      <th>Num_of_Seasons</th>\n",
       "      <th>Num_of_Episodes</th>\n",
       "      <th>Num_Episodes_Per_Season</th>\n",
       "      <th>Season_1_Rating</th>\n",
       "      <th>Years_Ran</th>\n",
       "      <th>Action</th>\n",
       "      <th>...</th>\n",
       "      <th>Other</th>\n",
       "      <th>Romance</th>\n",
       "      <th>Sci-fi</th>\n",
       "      <th>Sport</th>\n",
       "      <th>Thriller</th>\n",
       "      <th>War</th>\n",
       "      <th>MPAA_Rating</th>\n",
       "      <th>Runtime</th>\n",
       "      <th>Series_Type</th>\n",
       "      <th>Ordinal_MPAA</th>\n",
       "    </tr>\n",
       "  </thead>\n",
       "  <tbody>\n",
       "    <tr>\n",
       "      <th>901</th>\n",
       "      <td>Top Gear</td>\n",
       "      <td>2002</td>\n",
       "      <td>0</td>\n",
       "      <td>[Comedy, Adventure, Other, Other]</td>\n",
       "      <td>28</td>\n",
       "      <td>216</td>\n",
       "      <td>7.71</td>\n",
       "      <td>7.3</td>\n",
       "      <td>18</td>\n",
       "      <td>0</td>\n",
       "      <td>...</td>\n",
       "      <td>1</td>\n",
       "      <td>0</td>\n",
       "      <td>0</td>\n",
       "      <td>0</td>\n",
       "      <td>0</td>\n",
       "      <td>0</td>\n",
       "      <td>TV-PG</td>\n",
       "      <td>1h</td>\n",
       "      <td>TV Series (2002– )</td>\n",
       "      <td>4</td>\n",
       "    </tr>\n",
       "    <tr>\n",
       "      <th>116</th>\n",
       "      <td>South Park</td>\n",
       "      <td>1997</td>\n",
       "      <td>0</td>\n",
       "      <td>[Animation, Comedy]</td>\n",
       "      <td>23</td>\n",
       "      <td>307</td>\n",
       "      <td>13.35</td>\n",
       "      <td>8.0</td>\n",
       "      <td>23</td>\n",
       "      <td>0</td>\n",
       "      <td>...</td>\n",
       "      <td>0</td>\n",
       "      <td>0</td>\n",
       "      <td>0</td>\n",
       "      <td>0</td>\n",
       "      <td>0</td>\n",
       "      <td>0</td>\n",
       "      <td>TV-MA</td>\n",
       "      <td>22min</td>\n",
       "      <td>TV Series (1997– )</td>\n",
       "      <td>6</td>\n",
       "    </tr>\n",
       "    <tr>\n",
       "      <th>351</th>\n",
       "      <td>Law &amp; Order: Special Victims Unit</td>\n",
       "      <td>1999</td>\n",
       "      <td>0</td>\n",
       "      <td>[Drama, Crime, Mystery]</td>\n",
       "      <td>21</td>\n",
       "      <td>478</td>\n",
       "      <td>22.76</td>\n",
       "      <td>8.6</td>\n",
       "      <td>21</td>\n",
       "      <td>0</td>\n",
       "      <td>...</td>\n",
       "      <td>0</td>\n",
       "      <td>0</td>\n",
       "      <td>0</td>\n",
       "      <td>0</td>\n",
       "      <td>0</td>\n",
       "      <td>0</td>\n",
       "      <td>TV-14</td>\n",
       "      <td>1h</td>\n",
       "      <td>TV Series (1999– )</td>\n",
       "      <td>5</td>\n",
       "    </tr>\n",
       "    <tr>\n",
       "      <th>555</th>\n",
       "      <td>Midsomer Murders</td>\n",
       "      <td>1997</td>\n",
       "      <td>0</td>\n",
       "      <td>[Drama, Crime, Mystery]</td>\n",
       "      <td>21</td>\n",
       "      <td>126</td>\n",
       "      <td>6.00</td>\n",
       "      <td>7.6</td>\n",
       "      <td>23</td>\n",
       "      <td>0</td>\n",
       "      <td>...</td>\n",
       "      <td>0</td>\n",
       "      <td>0</td>\n",
       "      <td>0</td>\n",
       "      <td>0</td>\n",
       "      <td>0</td>\n",
       "      <td>0</td>\n",
       "      <td>TV-14</td>\n",
       "      <td>1h 30min</td>\n",
       "      <td>TV Series (1997– )</td>\n",
       "      <td>5</td>\n",
       "    </tr>\n",
       "    <tr>\n",
       "      <th>271</th>\n",
       "      <td>Family Guy</td>\n",
       "      <td>1999</td>\n",
       "      <td>0</td>\n",
       "      <td>[Animation, Comedy]</td>\n",
       "      <td>19</td>\n",
       "      <td>350</td>\n",
       "      <td>18.42</td>\n",
       "      <td>7.6</td>\n",
       "      <td>21</td>\n",
       "      <td>0</td>\n",
       "      <td>...</td>\n",
       "      <td>0</td>\n",
       "      <td>0</td>\n",
       "      <td>0</td>\n",
       "      <td>0</td>\n",
       "      <td>0</td>\n",
       "      <td>0</td>\n",
       "      <td>TV-MA</td>\n",
       "      <td>55min</td>\n",
       "      <td>TV Series (1999–2007)</td>\n",
       "      <td>6</td>\n",
       "    </tr>\n",
       "    <tr>\n",
       "      <th>486</th>\n",
       "      <td>NCIS</td>\n",
       "      <td>2003</td>\n",
       "      <td>0</td>\n",
       "      <td>[Action, Drama, Crime]</td>\n",
       "      <td>17</td>\n",
       "      <td>398</td>\n",
       "      <td>23.41</td>\n",
       "      <td>7.9</td>\n",
       "      <td>17</td>\n",
       "      <td>1</td>\n",
       "      <td>...</td>\n",
       "      <td>0</td>\n",
       "      <td>0</td>\n",
       "      <td>0</td>\n",
       "      <td>0</td>\n",
       "      <td>0</td>\n",
       "      <td>0</td>\n",
       "      <td>TV-14</td>\n",
       "      <td>1h</td>\n",
       "      <td>TV Series (2003– )</td>\n",
       "      <td>5</td>\n",
       "    </tr>\n",
       "    <tr>\n",
       "      <th>278</th>\n",
       "      <td>Grey's Anatomy</td>\n",
       "      <td>2005</td>\n",
       "      <td>0</td>\n",
       "      <td>[Romance, Drama]</td>\n",
       "      <td>16</td>\n",
       "      <td>363</td>\n",
       "      <td>22.69</td>\n",
       "      <td>8.3</td>\n",
       "      <td>15</td>\n",
       "      <td>0</td>\n",
       "      <td>...</td>\n",
       "      <td>0</td>\n",
       "      <td>1</td>\n",
       "      <td>0</td>\n",
       "      <td>0</td>\n",
       "      <td>0</td>\n",
       "      <td>0</td>\n",
       "      <td>TV-14</td>\n",
       "      <td>41min</td>\n",
       "      <td>TV Series (2005– )</td>\n",
       "      <td>5</td>\n",
       "    </tr>\n",
       "    <tr>\n",
       "      <th>803</th>\n",
       "      <td>Dragon Ball Z</td>\n",
       "      <td>1996</td>\n",
       "      <td>2003</td>\n",
       "      <td>[Animation, Action, Adventure]</td>\n",
       "      <td>16</td>\n",
       "      <td>276</td>\n",
       "      <td>17.25</td>\n",
       "      <td>7.7</td>\n",
       "      <td>7</td>\n",
       "      <td>1</td>\n",
       "      <td>...</td>\n",
       "      <td>0</td>\n",
       "      <td>0</td>\n",
       "      <td>0</td>\n",
       "      <td>0</td>\n",
       "      <td>0</td>\n",
       "      <td>0</td>\n",
       "      <td>TV-PG</td>\n",
       "      <td>24min</td>\n",
       "      <td>TV Series (1996–2003)</td>\n",
       "      <td>4</td>\n",
       "    </tr>\n",
       "    <tr>\n",
       "      <th>58</th>\n",
       "      <td>Supernatural</td>\n",
       "      <td>2005</td>\n",
       "      <td>2020</td>\n",
       "      <td>[Drama, Fantasy, Horror]</td>\n",
       "      <td>15</td>\n",
       "      <td>320</td>\n",
       "      <td>21.33</td>\n",
       "      <td>8.4</td>\n",
       "      <td>15</td>\n",
       "      <td>0</td>\n",
       "      <td>...</td>\n",
       "      <td>0</td>\n",
       "      <td>0</td>\n",
       "      <td>0</td>\n",
       "      <td>0</td>\n",
       "      <td>0</td>\n",
       "      <td>0</td>\n",
       "      <td>TV-14</td>\n",
       "      <td>44min</td>\n",
       "      <td>TV Series (2005–2020)</td>\n",
       "      <td>5</td>\n",
       "    </tr>\n",
       "    <tr>\n",
       "      <th>684</th>\n",
       "      <td>American Dad!</td>\n",
       "      <td>2005</td>\n",
       "      <td>0</td>\n",
       "      <td>[Animation, Comedy]</td>\n",
       "      <td>15</td>\n",
       "      <td>299</td>\n",
       "      <td>19.93</td>\n",
       "      <td>7.5</td>\n",
       "      <td>15</td>\n",
       "      <td>0</td>\n",
       "      <td>...</td>\n",
       "      <td>0</td>\n",
       "      <td>0</td>\n",
       "      <td>0</td>\n",
       "      <td>0</td>\n",
       "      <td>0</td>\n",
       "      <td>0</td>\n",
       "      <td>TV-14</td>\n",
       "      <td>22min</td>\n",
       "      <td>TV Series (2005– )</td>\n",
       "      <td>5</td>\n",
       "    </tr>\n",
       "    <tr>\n",
       "      <th>183</th>\n",
       "      <td>Criminal Minds</td>\n",
       "      <td>2005</td>\n",
       "      <td>2020</td>\n",
       "      <td>[Drama, Crime, Mystery]</td>\n",
       "      <td>15</td>\n",
       "      <td>323</td>\n",
       "      <td>21.53</td>\n",
       "      <td>7.7</td>\n",
       "      <td>15</td>\n",
       "      <td>0</td>\n",
       "      <td>...</td>\n",
       "      <td>0</td>\n",
       "      <td>0</td>\n",
       "      <td>0</td>\n",
       "      <td>0</td>\n",
       "      <td>0</td>\n",
       "      <td>0</td>\n",
       "      <td>TV-14</td>\n",
       "      <td>42min</td>\n",
       "      <td>TV Series (2005–2020)</td>\n",
       "      <td>5</td>\n",
       "    </tr>\n",
       "    <tr>\n",
       "      <th>472</th>\n",
       "      <td>CSI: Crime Scene Investigation</td>\n",
       "      <td>2000</td>\n",
       "      <td>2015</td>\n",
       "      <td>[Drama, Crime, Mystery]</td>\n",
       "      <td>15</td>\n",
       "      <td>335</td>\n",
       "      <td>22.33</td>\n",
       "      <td>8.0</td>\n",
       "      <td>15</td>\n",
       "      <td>0</td>\n",
       "      <td>...</td>\n",
       "      <td>0</td>\n",
       "      <td>0</td>\n",
       "      <td>0</td>\n",
       "      <td>0</td>\n",
       "      <td>0</td>\n",
       "      <td>0</td>\n",
       "      <td>TV-14</td>\n",
       "      <td>1h</td>\n",
       "      <td>TV Series (2000–2015)</td>\n",
       "      <td>5</td>\n",
       "    </tr>\n",
       "    <tr>\n",
       "      <th>110</th>\n",
       "      <td>It's Always Sunny in Philadelphia</td>\n",
       "      <td>2005</td>\n",
       "      <td>0</td>\n",
       "      <td>[Comedy]</td>\n",
       "      <td>14</td>\n",
       "      <td>153</td>\n",
       "      <td>10.93</td>\n",
       "      <td>8.3</td>\n",
       "      <td>15</td>\n",
       "      <td>0</td>\n",
       "      <td>...</td>\n",
       "      <td>0</td>\n",
       "      <td>0</td>\n",
       "      <td>0</td>\n",
       "      <td>0</td>\n",
       "      <td>0</td>\n",
       "      <td>0</td>\n",
       "      <td>TV-MA</td>\n",
       "      <td>22min</td>\n",
       "      <td>TV Series (2005– )</td>\n",
       "      <td>6</td>\n",
       "    </tr>\n",
       "    <tr>\n",
       "      <th>30</th>\n",
       "      <td>Doctor Who</td>\n",
       "      <td>2005</td>\n",
       "      <td>0</td>\n",
       "      <td>[Drama, Family, Adventure]</td>\n",
       "      <td>12</td>\n",
       "      <td>151</td>\n",
       "      <td>12.58</td>\n",
       "      <td>8.0</td>\n",
       "      <td>15</td>\n",
       "      <td>0</td>\n",
       "      <td>...</td>\n",
       "      <td>0</td>\n",
       "      <td>0</td>\n",
       "      <td>0</td>\n",
       "      <td>0</td>\n",
       "      <td>0</td>\n",
       "      <td>0</td>\n",
       "      <td>TV-PG</td>\n",
       "      <td>45min</td>\n",
       "      <td>TV Series (2005– )</td>\n",
       "      <td>4</td>\n",
       "    </tr>\n",
       "    <tr>\n",
       "      <th>713</th>\n",
       "      <td>Trailer Park Boys</td>\n",
       "      <td>2001</td>\n",
       "      <td>2018</td>\n",
       "      <td>[Comedy, Crime]</td>\n",
       "      <td>12</td>\n",
       "      <td>106</td>\n",
       "      <td>8.83</td>\n",
       "      <td>8.2</td>\n",
       "      <td>17</td>\n",
       "      <td>0</td>\n",
       "      <td>...</td>\n",
       "      <td>0</td>\n",
       "      <td>0</td>\n",
       "      <td>0</td>\n",
       "      <td>0</td>\n",
       "      <td>0</td>\n",
       "      <td>0</td>\n",
       "      <td>TV-MA</td>\n",
       "      <td>30min</td>\n",
       "      <td>TV Series (2001–2018)</td>\n",
       "      <td>6</td>\n",
       "    </tr>\n",
       "    <tr>\n",
       "      <th>101</th>\n",
       "      <td>The Big Bang Theory</td>\n",
       "      <td>2007</td>\n",
       "      <td>2019</td>\n",
       "      <td>[Comedy, Romance]</td>\n",
       "      <td>12</td>\n",
       "      <td>279</td>\n",
       "      <td>23.25</td>\n",
       "      <td>8.2</td>\n",
       "      <td>12</td>\n",
       "      <td>0</td>\n",
       "      <td>...</td>\n",
       "      <td>0</td>\n",
       "      <td>1</td>\n",
       "      <td>0</td>\n",
       "      <td>0</td>\n",
       "      <td>0</td>\n",
       "      <td>0</td>\n",
       "      <td>TV-14</td>\n",
       "      <td>22min</td>\n",
       "      <td>TV Series (2007–2019)</td>\n",
       "      <td>5</td>\n",
       "    </tr>\n",
       "    <tr>\n",
       "      <th>401</th>\n",
       "      <td>Bones</td>\n",
       "      <td>2005</td>\n",
       "      <td>2017</td>\n",
       "      <td>[Comedy, Drama, Crime]</td>\n",
       "      <td>12</td>\n",
       "      <td>245</td>\n",
       "      <td>20.42</td>\n",
       "      <td>7.9</td>\n",
       "      <td>12</td>\n",
       "      <td>0</td>\n",
       "      <td>...</td>\n",
       "      <td>0</td>\n",
       "      <td>0</td>\n",
       "      <td>0</td>\n",
       "      <td>0</td>\n",
       "      <td>0</td>\n",
       "      <td>0</td>\n",
       "      <td>TV-14</td>\n",
       "      <td>40min</td>\n",
       "      <td>TV Series (2005–2017)</td>\n",
       "      <td>5</td>\n",
       "    </tr>\n",
       "    <tr>\n",
       "      <th>348</th>\n",
       "      <td>Two and a Half Men</td>\n",
       "      <td>2003</td>\n",
       "      <td>2015</td>\n",
       "      <td>[Comedy, Romance]</td>\n",
       "      <td>12</td>\n",
       "      <td>261</td>\n",
       "      <td>21.75</td>\n",
       "      <td>8.1</td>\n",
       "      <td>12</td>\n",
       "      <td>0</td>\n",
       "      <td>...</td>\n",
       "      <td>0</td>\n",
       "      <td>1</td>\n",
       "      <td>0</td>\n",
       "      <td>0</td>\n",
       "      <td>0</td>\n",
       "      <td>0</td>\n",
       "      <td>TV-14</td>\n",
       "      <td>22min</td>\n",
       "      <td>TV Series (2003–2015)</td>\n",
       "      <td>5</td>\n",
       "    </tr>\n",
       "    <tr>\n",
       "      <th>687</th>\n",
       "      <td>SpongeBob SquarePants</td>\n",
       "      <td>1999</td>\n",
       "      <td>0</td>\n",
       "      <td>[Animation, Comedy, Family]</td>\n",
       "      <td>12</td>\n",
       "      <td>261</td>\n",
       "      <td>21.75</td>\n",
       "      <td>8.7</td>\n",
       "      <td>21</td>\n",
       "      <td>0</td>\n",
       "      <td>...</td>\n",
       "      <td>0</td>\n",
       "      <td>0</td>\n",
       "      <td>0</td>\n",
       "      <td>0</td>\n",
       "      <td>0</td>\n",
       "      <td>0</td>\n",
       "      <td>TV-Y</td>\n",
       "      <td>23min</td>\n",
       "      <td>TV Series (1999– )</td>\n",
       "      <td>0</td>\n",
       "    </tr>\n",
       "    <tr>\n",
       "      <th>940</th>\n",
       "      <td>Comedians in Cars Getting Coffee</td>\n",
       "      <td>2012</td>\n",
       "      <td>0</td>\n",
       "      <td>[Comedy, Other]</td>\n",
       "      <td>11</td>\n",
       "      <td>84</td>\n",
       "      <td>7.64</td>\n",
       "      <td>7.6</td>\n",
       "      <td>8</td>\n",
       "      <td>0</td>\n",
       "      <td>...</td>\n",
       "      <td>1</td>\n",
       "      <td>0</td>\n",
       "      <td>0</td>\n",
       "      <td>0</td>\n",
       "      <td>0</td>\n",
       "      <td>0</td>\n",
       "      <td>TV-14</td>\n",
       "      <td>20min</td>\n",
       "      <td>TV Series (2012– )</td>\n",
       "      <td>5</td>\n",
       "    </tr>\n",
       "  </tbody>\n",
       "</table>\n",
       "<p>20 rows × 33 columns</p>\n",
       "</div>"
      ],
      "text/plain": [
       "                                 Title  Start_Year  End_Year  \\\n",
       "901                           Top Gear        2002         0   \n",
       "116                         South Park        1997         0   \n",
       "351  Law & Order: Special Victims Unit        1999         0   \n",
       "555                   Midsomer Murders        1997         0   \n",
       "271                         Family Guy        1999         0   \n",
       "486                               NCIS        2003         0   \n",
       "278                     Grey's Anatomy        2005         0   \n",
       "803                      Dragon Ball Z        1996      2003   \n",
       "58                        Supernatural        2005      2020   \n",
       "684                      American Dad!        2005         0   \n",
       "183                     Criminal Minds        2005      2020   \n",
       "472     CSI: Crime Scene Investigation        2000      2015   \n",
       "110  It's Always Sunny in Philadelphia        2005         0   \n",
       "30                          Doctor Who        2005         0   \n",
       "713                  Trailer Park Boys        2001      2018   \n",
       "101                The Big Bang Theory        2007      2019   \n",
       "401                              Bones        2005      2017   \n",
       "348                 Two and a Half Men        2003      2015   \n",
       "687              SpongeBob SquarePants        1999         0   \n",
       "940   Comedians in Cars Getting Coffee        2012         0   \n",
       "\n",
       "                                Genres  Num_of_Seasons  Num_of_Episodes  \\\n",
       "901  [Comedy, Adventure, Other, Other]              28              216   \n",
       "116                [Animation, Comedy]              23              307   \n",
       "351            [Drama, Crime, Mystery]              21              478   \n",
       "555            [Drama, Crime, Mystery]              21              126   \n",
       "271                [Animation, Comedy]              19              350   \n",
       "486             [Action, Drama, Crime]              17              398   \n",
       "278                   [Romance, Drama]              16              363   \n",
       "803     [Animation, Action, Adventure]              16              276   \n",
       "58            [Drama, Fantasy, Horror]              15              320   \n",
       "684                [Animation, Comedy]              15              299   \n",
       "183            [Drama, Crime, Mystery]              15              323   \n",
       "472            [Drama, Crime, Mystery]              15              335   \n",
       "110                           [Comedy]              14              153   \n",
       "30          [Drama, Family, Adventure]              12              151   \n",
       "713                    [Comedy, Crime]              12              106   \n",
       "101                  [Comedy, Romance]              12              279   \n",
       "401             [Comedy, Drama, Crime]              12              245   \n",
       "348                  [Comedy, Romance]              12              261   \n",
       "687        [Animation, Comedy, Family]              12              261   \n",
       "940                    [Comedy, Other]              11               84   \n",
       "\n",
       "     Num_Episodes_Per_Season  Season_1_Rating  Years_Ran  Action  ...  Other  \\\n",
       "901                     7.71              7.3         18       0  ...      1   \n",
       "116                    13.35              8.0         23       0  ...      0   \n",
       "351                    22.76              8.6         21       0  ...      0   \n",
       "555                     6.00              7.6         23       0  ...      0   \n",
       "271                    18.42              7.6         21       0  ...      0   \n",
       "486                    23.41              7.9         17       1  ...      0   \n",
       "278                    22.69              8.3         15       0  ...      0   \n",
       "803                    17.25              7.7          7       1  ...      0   \n",
       "58                     21.33              8.4         15       0  ...      0   \n",
       "684                    19.93              7.5         15       0  ...      0   \n",
       "183                    21.53              7.7         15       0  ...      0   \n",
       "472                    22.33              8.0         15       0  ...      0   \n",
       "110                    10.93              8.3         15       0  ...      0   \n",
       "30                     12.58              8.0         15       0  ...      0   \n",
       "713                     8.83              8.2         17       0  ...      0   \n",
       "101                    23.25              8.2         12       0  ...      0   \n",
       "401                    20.42              7.9         12       0  ...      0   \n",
       "348                    21.75              8.1         12       0  ...      0   \n",
       "687                    21.75              8.7         21       0  ...      0   \n",
       "940                     7.64              7.6          8       0  ...      1   \n",
       "\n",
       "     Romance  Sci-fi  Sport  Thriller  War  MPAA_Rating   Runtime  \\\n",
       "901        0       0      0         0    0        TV-PG        1h   \n",
       "116        0       0      0         0    0        TV-MA     22min   \n",
       "351        0       0      0         0    0        TV-14        1h   \n",
       "555        0       0      0         0    0        TV-14  1h 30min   \n",
       "271        0       0      0         0    0        TV-MA     55min   \n",
       "486        0       0      0         0    0        TV-14        1h   \n",
       "278        1       0      0         0    0        TV-14     41min   \n",
       "803        0       0      0         0    0        TV-PG     24min   \n",
       "58         0       0      0         0    0        TV-14     44min   \n",
       "684        0       0      0         0    0        TV-14     22min   \n",
       "183        0       0      0         0    0        TV-14     42min   \n",
       "472        0       0      0         0    0        TV-14        1h   \n",
       "110        0       0      0         0    0        TV-MA     22min   \n",
       "30         0       0      0         0    0        TV-PG     45min   \n",
       "713        0       0      0         0    0        TV-MA     30min   \n",
       "101        1       0      0         0    0        TV-14     22min   \n",
       "401        0       0      0         0    0        TV-14     40min   \n",
       "348        1       0      0         0    0        TV-14     22min   \n",
       "687        0       0      0         0    0         TV-Y     23min   \n",
       "940        0       0      0         0    0        TV-14     20min   \n",
       "\n",
       "               Series_Type  Ordinal_MPAA  \n",
       "901     TV Series (2002– )             4  \n",
       "116     TV Series (1997– )             6  \n",
       "351     TV Series (1999– )             5  \n",
       "555     TV Series (1997– )             5  \n",
       "271  TV Series (1999–2007)             6  \n",
       "486     TV Series (2003– )             5  \n",
       "278     TV Series (2005– )             5  \n",
       "803  TV Series (1996–2003)             4  \n",
       "58   TV Series (2005–2020)             5  \n",
       "684     TV Series (2005– )             5  \n",
       "183  TV Series (2005–2020)             5  \n",
       "472  TV Series (2000–2015)             5  \n",
       "110     TV Series (2005– )             6  \n",
       "30      TV Series (2005– )             4  \n",
       "713  TV Series (2001–2018)             6  \n",
       "101  TV Series (2007–2019)             5  \n",
       "401  TV Series (2005–2017)             5  \n",
       "348  TV Series (2003–2015)             5  \n",
       "687     TV Series (1999– )             0  \n",
       "940     TV Series (2012– )             5  \n",
       "\n",
       "[20 rows x 33 columns]"
      ]
     },
     "execution_count": 54,
     "metadata": {},
     "output_type": "execute_result"
    }
   ],
   "source": [
    "df.sort_values(by = 'Num_of_Seasons', ascending = False).head(20)"
   ]
  },
  {
   "cell_type": "code",
   "execution_count": 4,
   "metadata": {},
   "outputs": [
    {
     "name": "stdout",
     "output_type": "stream",
     "text": [
      "<class 'pandas.core.frame.DataFrame'>\n",
      "Int64Index: 849 entries, 0 to 974\n",
      "Data columns (total 33 columns):\n",
      " #   Column                   Non-Null Count  Dtype  \n",
      "---  ------                   --------------  -----  \n",
      " 0   Title                    849 non-null    object \n",
      " 1   Start_Year               849 non-null    int64  \n",
      " 2   End_Year                 849 non-null    int64  \n",
      " 3   Genres                   849 non-null    object \n",
      " 4   Num_of_Seasons           849 non-null    int64  \n",
      " 5   Num_of_Episodes          849 non-null    int64  \n",
      " 6   Num_Episodes_Per_Season  849 non-null    float64\n",
      " 7   Season_1_Rating          849 non-null    float64\n",
      " 8   Years_Ran                849 non-null    int64  \n",
      " 9   Action                   849 non-null    int64  \n",
      " 10  Adventure                849 non-null    int64  \n",
      " 11  Animation                849 non-null    int64  \n",
      " 12  Biography                849 non-null    int64  \n",
      " 13  Comedy                   849 non-null    int64  \n",
      " 14  Crime                    849 non-null    int64  \n",
      " 15  Documentary              849 non-null    int64  \n",
      " 16  Drama                    849 non-null    int64  \n",
      " 17  Family                   849 non-null    int64  \n",
      " 18  Fantasy                  849 non-null    int64  \n",
      " 19  History                  849 non-null    int64  \n",
      " 20  Horror                   849 non-null    int64  \n",
      " 21  Music                    849 non-null    int64  \n",
      " 22  Mystery                  849 non-null    int64  \n",
      " 23  Other                    849 non-null    int64  \n",
      " 24  Romance                  849 non-null    int64  \n",
      " 25  Sci-fi                   849 non-null    int64  \n",
      " 26  Sport                    849 non-null    int64  \n",
      " 27  Thriller                 849 non-null    int64  \n",
      " 28  War                      849 non-null    int64  \n",
      " 29  MPAA_Rating              849 non-null    object \n",
      " 30  Runtime                  849 non-null    object \n",
      " 31  Series_Type              827 non-null    object \n",
      " 32  Ordinal_MPAA             849 non-null    int64  \n",
      "dtypes: float64(2), int64(26), object(5)\n",
      "memory usage: 225.5+ KB\n"
     ]
    }
   ],
   "source": [
    "df.info()"
   ]
  },
  {
   "cell_type": "code",
   "execution_count": 170,
   "metadata": {},
   "outputs": [],
   "source": [
    "#filter the datasets to just the variables we care about, keeping target at the end\n",
    "features = ['Start_Year', 'Num_Episodes_Per_Season', 'Season_1_Rating',\n",
    "            'Action', 'Adventure', 'Animation', 'Biography', 'Comedy', \n",
    "            'Crime', 'Documentary', 'Drama', 'Family', 'Fantasy', \n",
    "            'History', 'Horror', 'Music', 'Mystery', 'Other', 'Romance', \n",
    "            'Sci-fi', 'Sport', 'Thriller', 'War', 'Ordinal_MPAA']\n",
    "\n",
    "target = 'Num_of_Seasons'"
   ]
  },
  {
   "cell_type": "code",
   "execution_count": 171,
   "metadata": {},
   "outputs": [],
   "source": [
    "X = df[features]\n",
    "y = df[target]"
   ]
  },
  {
   "cell_type": "markdown",
   "metadata": {},
   "source": [
    "### Split into train-validate-test"
   ]
  },
  {
   "cell_type": "code",
   "execution_count": 172,
   "metadata": {},
   "outputs": [],
   "source": [
    "#Split the data 55 - 25 - 20 train/val/test\n",
    "\n",
    "X_80, X_test, y_80, y_test = train_test_split(X, y, test_size=0.2,random_state=42)\n",
    "X_train, X_val, y_train, y_val = train_test_split(X_80, y_80, test_size=.25, random_state=43)\n"
   ]
  },
  {
   "cell_type": "markdown",
   "metadata": {},
   "source": [
    "### Scale my variables"
   ]
  },
  {
   "cell_type": "code",
   "execution_count": 173,
   "metadata": {},
   "outputs": [],
   "source": [
    "#find the mean and standard deviation of the training seet\n",
    "std = StandardScaler()\n",
    "std.fit(X_train.values)\n",
    "\n",
    "\n",
    "#Scale the Predictors on both the train and test set based on the scale found above\n",
    "X_tr = std.transform(X_train.values)\n",
    "X_v = std.transform(X_val.values)"
   ]
  },
  {
   "cell_type": "markdown",
   "metadata": {},
   "source": [
    "### Apply RidgeCV and get model"
   ]
  },
  {
   "cell_type": "code",
   "execution_count": 174,
   "metadata": {},
   "outputs": [
    {
     "data": {
      "text/plain": [
       "RidgeCV(alphas=array([ 0.1,  1. , 10. ]), cv=5)"
      ]
     },
     "execution_count": 174,
     "metadata": {},
     "output_type": "execute_result"
    }
   ],
   "source": [
    "#Run the cross validation, find the best alpha, refit the model on all the data with that alpha\n",
    "\n",
    "ridge_model = RidgeCV(cv=5)\n",
    "ridge_model.fit(X_tr, y_train)"
   ]
  },
  {
   "cell_type": "code",
   "execution_count": 175,
   "metadata": {},
   "outputs": [
    {
     "data": {
      "text/plain": [
       "[('Start_Year', -1.4639834993761702),\n",
       " ('Num_Episodes_Per_Season', 0.5614938745131356),\n",
       " ('Season_1_Rating', -0.12286232271791238),\n",
       " ('Action', -0.16987712770270272),\n",
       " ('Adventure', -0.09209161042020289),\n",
       " ('Animation', -0.10114030179047265),\n",
       " ('Biography', -0.09007034526591991),\n",
       " ('Comedy', 0.16420474855307107),\n",
       " ('Crime', 0.3540624261952822),\n",
       " ('Documentary', -0.31157062332226704),\n",
       " ('Drama', -0.24726062587355552),\n",
       " ('Family', 0.10509166799452106),\n",
       " ('Fantasy', -0.13538187114600927),\n",
       " ('History', -0.13956612403386032),\n",
       " ('Horror', 0.018603039856119122),\n",
       " ('Music', -0.07862186808560377),\n",
       " ('Mystery', -0.10373632056339487),\n",
       " ('Other', 0.35798255919853395),\n",
       " ('Romance', -0.12124659839136688),\n",
       " ('Sci-fi', -0.08520757282731024),\n",
       " ('Sport', 0.05183672462579457),\n",
       " ('Thriller', 0.10496512767460292),\n",
       " ('War', -0.02093065512976291),\n",
       " ('Ordinal_MPAA', 0.030773311981498998)]"
      ]
     },
     "execution_count": 175,
     "metadata": {},
     "output_type": "execute_result"
    }
   ],
   "source": [
    "#these are the standardized coeffs when the model refit using the new alpha\n",
    "list(zip(X_train.columns, ridge_model.coef_))"
   ]
  },
  {
   "cell_type": "code",
   "execution_count": 176,
   "metadata": {},
   "outputs": [],
   "source": [
    "# Make predictions on the val set using the new model\n",
    "val_set_pred = ridge_model.predict(X_v)"
   ]
  },
  {
   "cell_type": "code",
   "execution_count": 177,
   "metadata": {},
   "outputs": [
    {
     "data": {
      "text/plain": [
       "1.588088971635447"
      ]
     },
     "execution_count": 177,
     "metadata": {},
     "output_type": "execute_result"
    }
   ],
   "source": [
    "#find the MAE and R^2 on the validation set using this model\n",
    "mae(y_val, val_set_pred)"
   ]
  },
  {
   "cell_type": "code",
   "execution_count": 178,
   "metadata": {},
   "outputs": [
    {
     "data": {
      "text/plain": [
       "0.453330739195969"
      ]
     },
     "execution_count": 178,
     "metadata": {},
     "output_type": "execute_result"
    }
   ],
   "source": [
    "#find the R^2 on the validation set using this model\n",
    "r2_score(y_val, val_set_pred)"
   ]
  },
  {
   "cell_type": "markdown",
   "metadata": {},
   "source": [
    "### Retrain model on train+val data, then get test scores"
   ]
  },
  {
   "cell_type": "code",
   "execution_count": 179,
   "metadata": {},
   "outputs": [
    {
     "data": {
      "text/plain": [
       "RidgeCV(alphas=array([ 0.1,  1. , 10. ]), cv=5)"
      ]
     },
     "execution_count": 179,
     "metadata": {},
     "output_type": "execute_result"
    }
   ],
   "source": [
    "#Run the cross validation, find the best alpha, refit the model on all the data with that alpha\n",
    "ridge_model = RidgeCV(cv=5)\n",
    "ridge_model.fit(X_80, y_80)"
   ]
  },
  {
   "cell_type": "code",
   "execution_count": 180,
   "metadata": {},
   "outputs": [
    {
     "data": {
      "text/plain": [
       "[('Start_Year', -0.2653385659473128),\n",
       " ('Num_Episodes_Per_Season', 0.10253498343279491),\n",
       " ('Season_1_Rating', -0.17961056751409987),\n",
       " ('Action', -0.4337148649556088),\n",
       " ('Adventure', -0.1721245080477148),\n",
       " ('Animation', -0.052346865092836814),\n",
       " ('Biography', -0.27098375361661636),\n",
       " ('Comedy', 0.4783085165445848),\n",
       " ('Crime', 0.6787633448069673),\n",
       " ('Documentary', -0.7457975114816953),\n",
       " ('Drama', -0.18762570665974196),\n",
       " ('Family', 0.3281993154310564),\n",
       " ('Fantasy', -0.2749686559960527),\n",
       " ('History', -0.45484976607888505),\n",
       " ('Horror', -0.18272909218801023),\n",
       " ('Music', -0.26253051292186913),\n",
       " ('Mystery', 0.012789097682545682),\n",
       " ('Other', 1.3022000635569746),\n",
       " ('Romance', 0.11238627301419966),\n",
       " ('Sci-fi', -0.20845667825642622),\n",
       " ('Sport', -0.06264118004335995),\n",
       " ('Thriller', 0.2702455780158724),\n",
       " ('War', -0.17613222301670328),\n",
       " ('Ordinal_MPAA', -0.010571054730257604)]"
      ]
     },
     "execution_count": 180,
     "metadata": {},
     "output_type": "execute_result"
    }
   ],
   "source": [
    "#these are the standardized coeffs when the model refit using the new alpha\n",
    "list(zip(X_80.columns, ridge_model.coef_))"
   ]
  },
  {
   "cell_type": "markdown",
   "metadata": {},
   "source": [
    "### Apply model to test set"
   ]
  },
  {
   "cell_type": "code",
   "execution_count": 181,
   "metadata": {},
   "outputs": [],
   "source": [
    "# Make predictions on the val set using the new model\n",
    "val_set_pred = ridge_model.predict(X_test)"
   ]
  },
  {
   "cell_type": "code",
   "execution_count": 182,
   "metadata": {},
   "outputs": [
    {
     "data": {
      "text/plain": [
       "1.5788097636900642"
      ]
     },
     "execution_count": 182,
     "metadata": {},
     "output_type": "execute_result"
    }
   ],
   "source": [
    "mae(y_test, val_set_pred)"
   ]
  },
  {
   "cell_type": "code",
   "execution_count": 183,
   "metadata": {},
   "outputs": [
    {
     "data": {
      "text/plain": [
       "5.44069707876392"
      ]
     },
     "execution_count": 183,
     "metadata": {},
     "output_type": "execute_result"
    }
   ],
   "source": [
    "rmse(y_test, val_set_pred)"
   ]
  },
  {
   "cell_type": "code",
   "execution_count": 184,
   "metadata": {},
   "outputs": [
    {
     "data": {
      "text/plain": [
       "0.37323405611583216"
      ]
     },
     "execution_count": 184,
     "metadata": {},
     "output_type": "execute_result"
    }
   ],
   "source": [
    "#find the R^2 on the test set using this model\n",
    "r2_score(y_test, val_set_pred)"
   ]
  },
  {
   "cell_type": "code",
   "execution_count": 185,
   "metadata": {},
   "outputs": [
    {
     "data": {
      "text/plain": [
       "[('Start_Year', -0.2653385659473128),\n",
       " ('Num_Episodes_Per_Season', 0.10253498343279491),\n",
       " ('Season_1_Rating', -0.17961056751409987),\n",
       " ('Action', -0.4337148649556088),\n",
       " ('Adventure', -0.1721245080477148),\n",
       " ('Animation', -0.052346865092836814),\n",
       " ('Biography', -0.27098375361661636),\n",
       " ('Comedy', 0.4783085165445848),\n",
       " ('Crime', 0.6787633448069673),\n",
       " ('Documentary', -0.7457975114816953),\n",
       " ('Drama', -0.18762570665974196),\n",
       " ('Family', 0.3281993154310564),\n",
       " ('Fantasy', -0.2749686559960527),\n",
       " ('History', -0.45484976607888505),\n",
       " ('Horror', -0.18272909218801023),\n",
       " ('Music', -0.26253051292186913),\n",
       " ('Mystery', 0.012789097682545682),\n",
       " ('Other', 1.3022000635569746),\n",
       " ('Romance', 0.11238627301419966),\n",
       " ('Sci-fi', -0.20845667825642622),\n",
       " ('Sport', -0.06264118004335995),\n",
       " ('Thriller', 0.2702455780158724),\n",
       " ('War', -0.17613222301670328),\n",
       " ('Ordinal_MPAA', -0.010571054730257604)]"
      ]
     },
     "execution_count": 185,
     "metadata": {},
     "output_type": "execute_result"
    }
   ],
   "source": [
    "#these are the standardized coeffs when the model refit using the new alpha\n",
    "list(zip(X_test.columns, ridge_model.coef_))"
   ]
  },
  {
   "cell_type": "code",
   "execution_count": 186,
   "metadata": {},
   "outputs": [
    {
     "data": {
      "image/png": "[encoded data removed]",
      "text/plain": [
       "<Figure size 576x396 with 1 Axes>"
      ]
     },
     "metadata": {},
     "output_type": "display_data"
    }
   ],
   "source": [
    "sns.residplot(x=ridge_model.predict(X_test), y=y_test, lowess=True)\n",
    "#plt.title('Residuals')\n",
    "plt.xlabel('Predicted (Number of Seasons)')\n",
    "plt.ylabel('Residuals');"
   ]
  },
  {
   "cell_type": "code",
   "execution_count": 196,
   "metadata": {},
   "outputs": [
    {
     "data": {
      "image/png": "[encoded data removed]",
      "text/plain": [
       "<Figure size 576x396 with 2 Axes>"
      ]
     },
     "metadata": {},
     "output_type": "display_data"
    }
   ],
   "source": [
    "from yellowbrick.datasets import load_concrete\n",
    "from yellowbrick.regressor import ResidualsPlot\n",
    "\n",
    "visualizer = ResidualsPlot(ridge_model, train_alpha = .65, test_alpha = .65)\n",
    "\n",
    "visualizer.fit(X_80, y_80)\n",
    "visualizer.score(X_test, y_test)\n",
    "#visualizer.show()\n",
    "visualizer.show(outpath=\"yellowbrickresiduals.png\");"
   ]
  },
  {
   "cell_type": "markdown",
   "metadata": {},
   "source": [
    "### Try log y"
   ]
  },
  {
   "cell_type": "code",
   "execution_count": 67,
   "metadata": {},
   "outputs": [],
   "source": [
    "df['log_y'] = np.log(df['Num_of_Seasons'])"
   ]
  },
  {
   "cell_type": "code",
   "execution_count": 69,
   "metadata": {},
   "outputs": [
    {
     "data": {
      "text/html": [
       "<div>\n",
       "<style scoped>\n",
       "    .dataframe tbody tr th:only-of-type {\n",
       "        vertical-align: middle;\n",
       "    }\n",
       "\n",
       "    .dataframe tbody tr th {\n",
       "        vertical-align: top;\n",
       "    }\n",
       "\n",
       "    .dataframe thead th {\n",
       "        text-align: right;\n",
       "    }\n",
       "</style>\n",
       "<table border=\"1\" class=\"dataframe\">\n",
       "  <thead>\n",
       "    <tr style=\"text-align: right;\">\n",
       "      <th></th>\n",
       "      <th>Title</th>\n",
       "      <th>Start_Year</th>\n",
       "      <th>End_Year</th>\n",
       "      <th>Genres</th>\n",
       "      <th>Num_of_Seasons</th>\n",
       "      <th>Num_of_Episodes</th>\n",
       "      <th>Num_Episodes_Per_Season</th>\n",
       "      <th>Season_1_Rating</th>\n",
       "      <th>Years_Ran</th>\n",
       "      <th>Action</th>\n",
       "      <th>...</th>\n",
       "      <th>Romance</th>\n",
       "      <th>Sci-fi</th>\n",
       "      <th>Sport</th>\n",
       "      <th>Thriller</th>\n",
       "      <th>War</th>\n",
       "      <th>MPAA_Rating</th>\n",
       "      <th>Runtime</th>\n",
       "      <th>Series_Type</th>\n",
       "      <th>Ordinal_MPAA</th>\n",
       "      <th>log_y</th>\n",
       "    </tr>\n",
       "  </thead>\n",
       "  <tbody>\n",
       "    <tr>\n",
       "      <th>0</th>\n",
       "      <td>Chernobyl</td>\n",
       "      <td>2019</td>\n",
       "      <td>2019</td>\n",
       "      <td>[Drama, History, Thriller]</td>\n",
       "      <td>1</td>\n",
       "      <td>5</td>\n",
       "      <td>5.00</td>\n",
       "      <td>9.6</td>\n",
       "      <td>1</td>\n",
       "      <td>0</td>\n",
       "      <td>...</td>\n",
       "      <td>0</td>\n",
       "      <td>0</td>\n",
       "      <td>0</td>\n",
       "      <td>1</td>\n",
       "      <td>0</td>\n",
       "      <td>TV-MA</td>\n",
       "      <td>5h 30min</td>\n",
       "      <td>TV Mini-Series (2019)</td>\n",
       "      <td>6</td>\n",
       "      <td>0.000000</td>\n",
       "    </tr>\n",
       "    <tr>\n",
       "      <th>1</th>\n",
       "      <td>Game of Thrones</td>\n",
       "      <td>2011</td>\n",
       "      <td>2019</td>\n",
       "      <td>[Action, Drama, Adventure]</td>\n",
       "      <td>8</td>\n",
       "      <td>73</td>\n",
       "      <td>9.12</td>\n",
       "      <td>9.1</td>\n",
       "      <td>8</td>\n",
       "      <td>1</td>\n",
       "      <td>...</td>\n",
       "      <td>0</td>\n",
       "      <td>0</td>\n",
       "      <td>0</td>\n",
       "      <td>0</td>\n",
       "      <td>0</td>\n",
       "      <td>TV-MA</td>\n",
       "      <td>57min</td>\n",
       "      <td>TV Series (2011–2019)</td>\n",
       "      <td>6</td>\n",
       "      <td>2.079442</td>\n",
       "    </tr>\n",
       "    <tr>\n",
       "      <th>2</th>\n",
       "      <td>Black Mirror</td>\n",
       "      <td>2011</td>\n",
       "      <td>0</td>\n",
       "      <td>[Drama, Sci-fi, Thriller]</td>\n",
       "      <td>5</td>\n",
       "      <td>22</td>\n",
       "      <td>4.40</td>\n",
       "      <td>8.1</td>\n",
       "      <td>9</td>\n",
       "      <td>0</td>\n",
       "      <td>...</td>\n",
       "      <td>0</td>\n",
       "      <td>1</td>\n",
       "      <td>0</td>\n",
       "      <td>1</td>\n",
       "      <td>0</td>\n",
       "      <td>TV-MA</td>\n",
       "      <td>1h</td>\n",
       "      <td>TV Series (2011– )</td>\n",
       "      <td>6</td>\n",
       "      <td>1.609438</td>\n",
       "    </tr>\n",
       "  </tbody>\n",
       "</table>\n",
       "<p>3 rows × 34 columns</p>\n",
       "</div>"
      ],
      "text/plain": [
       "             Title  Start_Year  End_Year                      Genres  \\\n",
       "0        Chernobyl        2019      2019  [Drama, History, Thriller]   \n",
       "1  Game of Thrones        2011      2019  [Action, Drama, Adventure]   \n",
       "2     Black Mirror        2011         0   [Drama, Sci-fi, Thriller]   \n",
       "\n",
       "   Num_of_Seasons  Num_of_Episodes  Num_Episodes_Per_Season  Season_1_Rating  \\\n",
       "0               1                5                     5.00              9.6   \n",
       "1               8               73                     9.12              9.1   \n",
       "2               5               22                     4.40              8.1   \n",
       "\n",
       "   Years_Ran  Action  ...  Romance  Sci-fi  Sport  Thriller  War  MPAA_Rating  \\\n",
       "0          1       0  ...        0       0      0         1    0        TV-MA   \n",
       "1          8       1  ...        0       0      0         0    0        TV-MA   \n",
       "2          9       0  ...        0       1      0         1    0        TV-MA   \n",
       "\n",
       "    Runtime            Series_Type  Ordinal_MPAA     log_y  \n",
       "0  5h 30min  TV Mini-Series (2019)             6  0.000000  \n",
       "1     57min  TV Series (2011–2019)             6  2.079442  \n",
       "2        1h     TV Series (2011– )             6  1.609438  \n",
       "\n",
       "[3 rows x 34 columns]"
      ]
     },
     "execution_count": 69,
     "metadata": {},
     "output_type": "execute_result"
    }
   ],
   "source": [
    "df.head(3)"
   ]
  },
  {
   "cell_type": "code",
   "execution_count": 72,
   "metadata": {},
   "outputs": [],
   "source": [
    "y2 = df['log_y']\n",
    "\n",
    "#Split the data 55 - 25 - 20 train/val/test\n",
    "\n",
    "X2_80, X2_test, y2_80, y2_test = train_test_split(X, y2, test_size=0.2,random_state=42)\n"
   ]
  },
  {
   "cell_type": "code",
   "execution_count": 83,
   "metadata": {},
   "outputs": [],
   "source": [
    "#find the mean and standard deviation of the training seet\n",
    "std2 = StandardScaler()\n",
    "std2.fit(X2_80.values)\n",
    "\n",
    "\n",
    "#Scale the Predictors on both the train and test set based on the scale found above\n",
    "X2_tr = std2.transform(X2_80.values)"
   ]
  },
  {
   "cell_type": "code",
   "execution_count": 84,
   "metadata": {},
   "outputs": [
    {
     "data": {
      "text/plain": [
       "RidgeCV(alphas=array([ 0.1,  1. , 10. ]), cv=5)"
      ]
     },
     "execution_count": 84,
     "metadata": {},
     "output_type": "execute_result"
    }
   ],
   "source": [
    "#Run the cross validation, find the best alpha, refit the model on all the data with that alpha\n",
    "\n",
    "ridge_model2 = RidgeCV(cv=5)\n",
    "ridge_model2.fit(X2_tr, y2_80)"
   ]
  },
  {
   "cell_type": "code",
   "execution_count": 85,
   "metadata": {},
   "outputs": [
    {
     "data": {
      "text/plain": [
       "[('Start_Year', -0.3675620276878115),\n",
       " ('Num_Episodes_Per_Season', 0.18179619705323502),\n",
       " ('Season_1_Rating', 0.023213712314410113),\n",
       " ('Action', -0.013024860616593963),\n",
       " ('Adventure', -0.013022042565250875),\n",
       " ('Animation', -0.06523533051883262),\n",
       " ('Biography', -0.037613666325625045),\n",
       " ('Comedy', 0.05718538956088925),\n",
       " ('Crime', 0.07791957511877966),\n",
       " ('Documentary', -0.09558975232013693),\n",
       " ('Drama', -0.02051963970678389),\n",
       " ('Family', 0.010932654969987432),\n",
       " ('Fantasy', -0.009236810294176702),\n",
       " ('History', -0.0394608225767629),\n",
       " ('Horror', -0.008833093164859728),\n",
       " ('Music', -0.022749338425824505),\n",
       " ('Mystery', 0.003968806887941946),\n",
       " ('Other', 0.049490175854378045),\n",
       " ('Romance', -0.002879288525693655),\n",
       " ('Sci-fi', -0.008609768557285711),\n",
       " ('Sport', 0.00026107443329197167),\n",
       " ('Thriller', 0.03327757098549331),\n",
       " ('War', -0.008023515754484928),\n",
       " ('Ordinal_MPAA', -0.024857534959932537)]"
      ]
     },
     "execution_count": 85,
     "metadata": {},
     "output_type": "execute_result"
    }
   ],
   "source": [
    "#these are the standardized coeffs when the model refit using the new alpha\n",
    "list(zip(X2_80.columns, ridge_model2.coef_))"
   ]
  },
  {
   "cell_type": "code",
   "execution_count": 86,
   "metadata": {},
   "outputs": [],
   "source": [
    "# Make predictions on the val set using the new model\n",
    "val_set_pred2 = ridge_model2.predict(X2_test)"
   ]
  },
  {
   "cell_type": "code",
   "execution_count": 87,
   "metadata": {},
   "outputs": [
    {
     "data": {
      "text/plain": [
       "737.848667961416"
      ]
     },
     "execution_count": 87,
     "metadata": {},
     "output_type": "execute_result"
    }
   ],
   "source": [
    "mae(y2_test, val_set_pred2)"
   ]
  },
  {
   "cell_type": "code",
   "execution_count": 90,
   "metadata": {},
   "outputs": [
    {
     "data": {
      "text/plain": [
       "544427.1132673272"
      ]
     },
     "execution_count": 90,
     "metadata": {},
     "output_type": "execute_result"
    }
   ],
   "source": [
    "rmse(y2_test, val_set_pred2)"
   ]
  },
  {
   "cell_type": "code",
   "execution_count": 94,
   "metadata": {},
   "outputs": [
    {
     "data": {
      "image/png": "[encoded data removed]",
      "text/plain": [
       "<Figure size 576x396 with 2 Axes>"
      ]
     },
     "metadata": {},
     "output_type": "display_data"
    }
   ],
   "source": [
    "\n",
    "visualizer2 = ResidualsPlot(ridge_model2\n",
    "                           )\n",
    "\n",
    "visualizer2.fit(X2_80, y2_80)\n",
    "visualizer2.score(X2_test, y2_test)\n",
    "visualizer2.show();"
   ]
  },
  {
   "cell_type": "markdown",
   "metadata": {},
   "source": [
    "bruh.. log(y) is wild. I'm not gonna use that shi"
   ]
  },
  {
   "cell_type": "markdown",
   "metadata": {},
   "source": [
    "## Can't find a summary stats for ridgecv adjusted R^2 so i'm gonna code one"
   ]
  },
  {
   "cell_type": "code",
   "execution_count": 106,
   "metadata": {},
   "outputs": [
    {
     "data": {
      "text/plain": [
       "{'alphas': array([ 0.1,  1. , 10. ]),\n",
       " 'cv': 5,\n",
       " 'fit_intercept': True,\n",
       " 'gcv_mode': None,\n",
       " 'normalize': False,\n",
       " 'scoring': None,\n",
       " 'store_cv_values': False}"
      ]
     },
     "execution_count": 106,
     "metadata": {},
     "output_type": "execute_result"
    }
   ],
   "source": [
    "ridge_model.get_params()"
   ]
  },
  {
   "cell_type": "code",
   "execution_count": 107,
   "metadata": {},
   "outputs": [],
   "source": [
    "def adjusted_r2(r2, n, k):\n",
    "    '''\n",
    "    Function to calculate adjusted R^2\n",
    "    \n",
    "    <Input> r2 (Type = float): R^2, \n",
    "            n (Type = int): number of data points in the data sample\n",
    "            k (Type = int): number of independent variables in th model\n",
    "            \n",
    "    <Returns> adjusted R^2 (Type = float)\n",
    "            \n",
    "    '''\n",
    "    \n",
    "    return (1 - ((1-r2)*(n-1)/(n-k-1)))"
   ]
  },
  {
   "cell_type": "code",
   "execution_count": 108,
   "metadata": {},
   "outputs": [
    {
     "data": {
      "text/plain": [
       "(849, 24)"
      ]
     },
     "execution_count": 108,
     "metadata": {},
     "output_type": "execute_result"
    }
   ],
   "source": [
    "X.shape #tells us 849 data points, 24 features"
   ]
  },
  {
   "cell_type": "code",
   "execution_count": 109,
   "metadata": {},
   "outputs": [
    {
     "data": {
      "text/plain": [
       "0.3549787373619244"
      ]
     },
     "execution_count": 109,
     "metadata": {},
     "output_type": "execute_result"
    }
   ],
   "source": [
    "adjusted_r2(r2_score(y_test, val_set_pred), 849, 24)"
   ]
  },
  {
   "cell_type": "code",
   "execution_count": 124,
   "metadata": {},
   "outputs": [
    {
     "data": {
      "text/plain": [
       "numpy.ndarray"
      ]
     },
     "execution_count": 124,
     "metadata": {},
     "output_type": "execute_result"
    }
   ],
   "source": [
    "type(ridge_model2.coef_)"
   ]
  },
  {
   "cell_type": "code",
   "execution_count": 166,
   "metadata": {},
   "outputs": [
    {
     "data": {
      "text/plain": [
       "(24,)"
      ]
     },
     "execution_count": 166,
     "metadata": {},
     "output_type": "execute_result"
    }
   ],
   "source": [
    "ridge_model2.coef_.shape"
   ]
  },
  {
   "cell_type": "markdown",
   "metadata": {},
   "source": [
    "### Predict the lifespan of my favorite show"
   ]
  },
  {
   "cell_type": "code",
   "execution_count": 205,
   "metadata": {},
   "outputs": [],
   "source": [
    "Harley_quinn = np.array([2019,13, 8.3, 1,1,1,0,0,0,0,0,0,0,0,0,0,0,0,0,0,0,0,0, 6])"
   ]
  },
  {
   "cell_type": "code",
   "execution_count": 206,
   "metadata": {},
   "outputs": [
    {
     "data": {
      "text/plain": [
       "(24,)"
      ]
     },
     "execution_count": 206,
     "metadata": {},
     "output_type": "execute_result"
    }
   ],
   "source": [
    "Harley_quinn.shape"
   ]
  },
  {
   "cell_type": "code",
   "execution_count": 210,
   "metadata": {},
   "outputs": [
    {
     "name": "stdout",
     "output_type": "stream",
     "text": [
      "[1.30282185]\n"
     ]
    }
   ],
   "source": [
    "print(ridge_model.predict(Harley_quinn.reshape(1,-1)))"
   ]
  },
  {
   "cell_type": "code",
   "execution_count": null,
   "metadata": {},
   "outputs": [],
   "source": []
  }
 ],
 "metadata": {
  "kernelspec": {
   "display_name": "Python 3",
   "language": "python",
   "name": "python3"
  },
  "language_info": {
   "codemirror_mode": {
    "name": "ipython",
    "version": 3
   },
   "file_extension": ".py",
   "mimetype": "text/x-python",
   "name": "python",
   "nbconvert_exporter": "python",
   "pygments_lexer": "ipython3",
   "version": "3.8.3"
  }
 },
 "nbformat": 4,
 "nbformat_minor": 4
}
