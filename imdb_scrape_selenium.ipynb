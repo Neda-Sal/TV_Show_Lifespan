{
 "cells": [
  {
   "cell_type": "markdown",
   "metadata": {},
   "source": [
    "# Want to collect MPAA rating and production company for each tv show.\n",
    "# For each tv show, search it in IMDb, then grab that information."
   ]
  },
  {
   "cell_type": "code",
   "execution_count": 1,
   "metadata": {},
   "outputs": [],
   "source": [
    "from selenium import webdriver\n",
    "from selenium.webdriver.common.keys import Keys\n",
    "import pandas as pd\n",
    "import time\n",
    "import random\n",
    "import pickle"
   ]
  },
  {
   "cell_type": "code",
   "execution_count": 2,
   "metadata": {},
   "outputs": [
    {
     "data": {
      "text/html": [
       "<div>\n",
       "<style scoped>\n",
       "    .dataframe tbody tr th:only-of-type {\n",
       "        vertical-align: middle;\n",
       "    }\n",
       "\n",
       "    .dataframe tbody tr th {\n",
       "        vertical-align: top;\n",
       "    }\n",
       "\n",
       "    .dataframe thead th {\n",
       "        text-align: right;\n",
       "    }\n",
       "</style>\n",
       "<table border=\"1\" class=\"dataframe\">\n",
       "  <thead>\n",
       "    <tr style=\"text-align: right;\">\n",
       "      <th></th>\n",
       "      <th>Title</th>\n",
       "      <th>Start_Year</th>\n",
       "      <th>End_Year</th>\n",
       "      <th>Genres</th>\n",
       "      <th>Num_of_Seasons</th>\n",
       "      <th>Num_of_Episodes</th>\n",
       "      <th>Num_Episodes_Per_Season</th>\n",
       "      <th>Season_1_Rating</th>\n",
       "      <th>Years_Ran</th>\n",
       "    </tr>\n",
       "  </thead>\n",
       "  <tbody>\n",
       "    <tr>\n",
       "      <th>0</th>\n",
       "      <td>Chernobyl</td>\n",
       "      <td>2019</td>\n",
       "      <td>2019</td>\n",
       "      <td>[Drama, History, Thriller]</td>\n",
       "      <td>1</td>\n",
       "      <td>5</td>\n",
       "      <td>5.00</td>\n",
       "      <td>9.6</td>\n",
       "      <td>1</td>\n",
       "    </tr>\n",
       "    <tr>\n",
       "      <th>1</th>\n",
       "      <td>Game of Thrones</td>\n",
       "      <td>2011</td>\n",
       "      <td>2019</td>\n",
       "      <td>[Action, Drama, Adventure]</td>\n",
       "      <td>8</td>\n",
       "      <td>73</td>\n",
       "      <td>9.12</td>\n",
       "      <td>9.1</td>\n",
       "      <td>8</td>\n",
       "    </tr>\n",
       "    <tr>\n",
       "      <th>2</th>\n",
       "      <td>Black Mirror</td>\n",
       "      <td>2011</td>\n",
       "      <td>0</td>\n",
       "      <td>[Drama, Sci-fi, Thriller]</td>\n",
       "      <td>5</td>\n",
       "      <td>22</td>\n",
       "      <td>4.40</td>\n",
       "      <td>8.1</td>\n",
       "      <td>9</td>\n",
       "    </tr>\n",
       "    <tr>\n",
       "      <th>3</th>\n",
       "      <td>Sherlock</td>\n",
       "      <td>2010</td>\n",
       "      <td>2017</td>\n",
       "      <td>[Drama, Crime, Mystery]</td>\n",
       "      <td>4</td>\n",
       "      <td>12</td>\n",
       "      <td>3.00</td>\n",
       "      <td>8.8</td>\n",
       "      <td>7</td>\n",
       "    </tr>\n",
       "    <tr>\n",
       "      <th>4</th>\n",
       "      <td>Breaking Bad</td>\n",
       "      <td>2008</td>\n",
       "      <td>2013</td>\n",
       "      <td>[Drama, Crime, Thriller]</td>\n",
       "      <td>5</td>\n",
       "      <td>62</td>\n",
       "      <td>12.40</td>\n",
       "      <td>8.8</td>\n",
       "      <td>5</td>\n",
       "    </tr>\n",
       "  </tbody>\n",
       "</table>\n",
       "</div>"
      ],
      "text/plain": [
       "             Title  Start_Year  End_Year                      Genres  \\\n",
       "0        Chernobyl        2019      2019  [Drama, History, Thriller]   \n",
       "1  Game of Thrones        2011      2019  [Action, Drama, Adventure]   \n",
       "2     Black Mirror        2011         0   [Drama, Sci-fi, Thriller]   \n",
       "3         Sherlock        2010      2017     [Drama, Crime, Mystery]   \n",
       "4     Breaking Bad        2008      2013    [Drama, Crime, Thriller]   \n",
       "\n",
       "   Num_of_Seasons  Num_of_Episodes  Num_Episodes_Per_Season  Season_1_Rating  \\\n",
       "0               1                5                     5.00              9.6   \n",
       "1               8               73                     9.12              9.1   \n",
       "2               5               22                     4.40              8.1   \n",
       "3               4               12                     3.00              8.8   \n",
       "4               5               62                    12.40              8.8   \n",
       "\n",
       "   Years_Ran  \n",
       "0          1  \n",
       "1          8  \n",
       "2          9  \n",
       "3          7  \n",
       "4          5  "
      ]
     },
     "execution_count": 2,
     "metadata": {},
     "output_type": "execute_result"
    }
   ],
   "source": [
    "#to load the tv show data back in use\n",
    "tv_show_df = pd.read_pickle('clean_tv_show_df.pkl')\n",
    "tv_show_df.head()"
   ]
  },
  {
   "cell_type": "code",
   "execution_count": 3,
   "metadata": {},
   "outputs": [],
   "source": [
    "# open up a window and go to the page I want to scrape\n",
    "\n",
    "chromedriver = \"/Applications/chromedriver\" # path to the chromedriver executable\n",
    "\n",
    "driver = webdriver.Chrome(chromedriver)\n",
    "driver.get('https://www.imdb.com/?ref_=nv_home')\n",
    "time.sleep(1)#make sure page has loaded"
   ]
  },
  {
   "cell_type": "markdown",
   "metadata": {},
   "source": [
    "### Scrape the website and pickle the data"
   ]
  },
  {
   "cell_type": "code",
   "execution_count": 11,
   "metadata": {},
   "outputs": [],
   "source": [
    "tv_rating = []\n",
    "production = []"
   ]
  },
  {
   "cell_type": "code",
   "execution_count": 12,
   "metadata": {},
   "outputs": [
    {
     "name": "stdout",
     "output_type": "stream",
     "text": [
      "81 81 11.22.63\n",
      "81 81 American Crime Story\n",
      "330 330 The Alienist: Angel of Darkness\n",
      "330 330 Escape at Dannemora\n",
      "345 345 Louie\n",
      "364 363 Jack Taylor\n",
      "425 424 Dave\n",
      "458 457 Flight of the Conchords\n",
      "462 460 Daniel Sloss: Live Shows\n",
      "490 488 River\n",
      "497 494 13 Reasons Why: Beyond the Reasons\n",
      "527 524 V\n",
      "603 600 Touch\n",
      "616 613 Gypsy\n",
      "624 620 Star Trek: Short Treks\n",
      "712 708 The Mighty Boosh\n",
      "764 760 Tut\n",
      "777 773 Giri/Haji\n",
      "777 773 Extant\n",
      "777 773 The Bible\n",
      "777 773 Don't Trust the B---- in Apartment 23\n",
      "777 773 Dickinson\n",
      "777 773 Killjoys\n",
      "777 773 Life\n",
      "777 773 Crazy Ex-Girlfriend\n",
      "777 773 Trust\n",
      "836 832 The Mick\n",
      "919 914 High Fidelity\n"
     ]
    }
   ],
   "source": [
    "#driver.get('https://www.imdb.com/?ref_=nv_home')\n",
    "\n",
    "#search every show title in the df\n",
    "for title in tv_show_df['Title']:\n",
    "    \n",
    "    #pickle every 25 rows\n",
    "    if len(tv_rating) % 25 == 0:\n",
    "        with open('MPAAimdb.pkl', 'wb') as f:\n",
    "            pickle.dump(tv_rating, f)\n",
    "            \n",
    "        with open('ProductionCos.pkl', 'wb') as f:\n",
    "            pickle.dump(production, f)        \n",
    "    \n",
    "    \n",
    "    try:\n",
    "        #search for the show\n",
    "        search_box = driver.find_element_by_xpath(\"//input[@type ='text']\")\n",
    "        search_box.send_keys(title)\n",
    "        search_box.send_keys(Keys.RETURN)\n",
    "        time.sleep(.75)\n",
    "\n",
    "        #click into the show's imdb page\n",
    "        show_link = driver.find_elements_by_xpath('/html/body/div[3]/div/div[2]/div[3]/div[1]/div/div[2]/table/tbody/tr[1]/td[2]/a')\n",
    "        show_link[0].click()\n",
    "        time.sleep(1.5)\n",
    "\n",
    "        #grab the rating in the header\n",
    "        rating = driver.find_element_by_xpath(\".//div[@class = 'subtext']\")\n",
    "        tv_rating.append(str(len(tv_rating)) + ' | ' + title + ' | ' + rating.text)\n",
    "\n",
    "        #grab the production company\n",
    "        prod_comp = driver.find_element_by_xpath(\"//*[@id='titleDetails']/div[7]\")\n",
    "        production.append(str(len(production)) + ' | ' + title + ' | ' + prod_comp.text)\n",
    "        \n",
    "        time.sleep(.75)\n",
    "        \n",
    "        \n",
    "    #print the shows that can't be scraped\n",
    "    except:\n",
    "        #pickle what we have so far\n",
    "        with open('MPAAimdb.pkl', 'wb') as f:\n",
    "            pickle.dump(tv_rating, f)\n",
    "            \n",
    "        with open('ProductionCos.pkl', 'wb') as f:\n",
    "            pickle.dump(production, f)\n",
    "            \n",
    "        print(len(tv_rating), len(production), title)\n",
    "        \n",
    "#final pickle\n",
    "with open('MPAAimdb.pkl', 'wb') as f:\n",
    "    pickle.dump(tv_rating, f)\n",
    "\n",
    "with open('ProductionCos.pkl', 'wb') as f:\n",
    "    pickle.dump(production, f)"
   ]
  },
  {
   "cell_type": "markdown",
   "metadata": {},
   "source": [
    "Ran it on the first 10 elements at first, checking if results are what i wanted"
   ]
  },
  {
   "cell_type": "code",
   "execution_count": 7,
   "metadata": {},
   "outputs": [
    {
     "data": {
      "text/plain": [
       "10"
      ]
     },
     "execution_count": 7,
     "metadata": {},
     "output_type": "execute_result"
    }
   ],
   "source": [
    "len(tv_rating)"
   ]
  },
  {
   "cell_type": "code",
   "execution_count": 8,
   "metadata": {},
   "outputs": [
    {
     "data": {
      "text/plain": [
       "10"
      ]
     },
     "execution_count": 8,
     "metadata": {},
     "output_type": "execute_result"
    }
   ],
   "source": [
    "len(production)"
   ]
  },
  {
   "cell_type": "code",
   "execution_count": 9,
   "metadata": {},
   "outputs": [
    {
     "data": {
      "text/plain": [
       "['0 | Chernobyl | TV-MA | 5h 30min | Drama, History, Thriller | TV Mini-Series (2019)',\n",
       " '1 | Game of Thrones | TV-MA | 57min | Action, Adventure, Drama | TV Series (2011–2019)',\n",
       " '2 | Black Mirror | TV-MA | 1h | Drama, Sci-Fi, Thriller | TV Series (2011– )',\n",
       " '3 | Sherlock | TV-14 | 1h 28min | Crime, Drama, Mystery | TV Series (2010–2017)',\n",
       " '4 | Breaking Bad | TV-MA | 49min | Crime, Drama, Thriller | TV Series (2008–2013)',\n",
       " '5 | The Mandalorian | TV-14 | 40min | Action, Adventure, Sci-Fi | TV Series (2019– )',\n",
       " '6 | Stranger Things | TV-14 | 51min | Drama, Fantasy, Horror | TV Series (2016– )',\n",
       " '7 | The Witcher | TV-MA | 1h | Action, Adventure, Fantasy | TV Series (2019– )',\n",
       " '8 | Westworld | TV-MA | 1h 2min | Drama, Mystery, Sci-Fi | TV Series (2016– )',\n",
       " '9 | Dark | TV-MA | 1h | Crime, Drama, Mystery | TV Series (2017–2020)']"
      ]
     },
     "execution_count": 9,
     "metadata": {},
     "output_type": "execute_result"
    }
   ],
   "source": [
    "tv_rating"
   ]
  },
  {
   "cell_type": "code",
   "execution_count": 10,
   "metadata": {},
   "outputs": [
    {
     "data": {
      "text/plain": [
       "['0 | Chernobyl | Production Co: Home Box Office (HBO), Sister Pictures, Sky Television See more »',\n",
       " '1 | Game of Thrones | Production Co: Home Box Office (HBO), Television 360, Grok! Studio See more »',\n",
       " '2 | Black Mirror | Cumulative Worldwide Gross: $320,000',\n",
       " '3 | Sherlock | Production Co: Hartswood Films, BBC Wales, Masterpiece Theatre See more »',\n",
       " '4 | Breaking Bad | Production Co: High Bridge Productions, Gran Via Productions, Sony Pictures Television See more »',\n",
       " '5 | The Mandalorian | Budget:$100,000,000 (estimated)',\n",
       " '6 | Stranger Things | Production Co: 21 Laps Entertainment, Monkey Massacre, Netflix See more »',\n",
       " '7 | The Witcher | Production Co: Netflix, Pioneer Stilking Films, Platige Image See more »',\n",
       " '8 | Westworld | Budget:$100,000,000 (estimated)',\n",
       " '9 | Dark | Production Co: Netflix, W&B Television See more »']"
      ]
     },
     "execution_count": 10,
     "metadata": {},
     "output_type": "execute_result"
    }
   ],
   "source": [
    "production"
   ]
  },
  {
   "cell_type": "markdown",
   "metadata": {},
   "source": [
    "All looks good, so I will run it again on the whole dataset"
   ]
  },
  {
   "cell_type": "code",
   "execution_count": null,
   "metadata": {},
   "outputs": [],
   "source": []
  }
 ],
 "metadata": {
  "kernelspec": {
   "display_name": "Python 3",
   "language": "python",
   "name": "python3"
  },
  "language_info": {
   "codemirror_mode": {
    "name": "ipython",
    "version": 3
   },
   "file_extension": ".py",
   "mimetype": "text/x-python",
   "name": "python",
   "nbconvert_exporter": "python",
   "pygments_lexer": "ipython3",
   "version": "3.8.3"
  }
 },
 "nbformat": 4,
 "nbformat_minor": 4
}
